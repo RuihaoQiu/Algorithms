{
 "cells": [
  {
   "cell_type": "code",
   "execution_count": 47,
   "metadata": {},
   "outputs": [
    {
     "data": {
      "text/plain": [
       "0.40000000000000002"
      ]
     },
     "execution_count": 47,
     "metadata": {},
     "output_type": "execute_result"
    }
   ],
   "source": [
    "import numpy as np\n",
    "import math\n",
    "\n",
    "X = np.array([[3, 3, 1, 1, 3]]).T\n",
    "\n",
    "y = np.array([1, -1, -1, -1, -1])\n",
    "threshold = 2\n",
    "prediction = np.ones(np.shape(y))\n",
    "prediction[X[:,0] < threshold] = -1\n",
    "n_samples = len(y)\n",
    "w = np.full(n_samples, (1 / n_samples))\n",
    "error = sum(w[y != prediction])\n",
    "error"
   ]
  },
  {
   "cell_type": "code",
   "execution_count": 48,
   "metadata": {},
   "outputs": [
    {
     "name": "stdout",
     "output_type": "stream",
     "text": [
      "[ 0.16329932  0.24494897  0.16329932  0.16329932  0.24494897]\n"
     ]
    },
    {
     "data": {
      "text/plain": [
       "array([ 0.16666667,  0.25      ,  0.16666667,  0.16666667,  0.25      ])"
      ]
     },
     "execution_count": 48,
     "metadata": {},
     "output_type": "execute_result"
    }
   ],
   "source": [
    "alpha = 0.5 * math.log((1.0 - error) / (error + 1e-10))\n",
    "\n",
    "w *= np.exp(-alpha * y * prediction)\n",
    "print(w)\n",
    "w /= np.sum(w)\n",
    "w"
   ]
  },
  {
   "cell_type": "code",
   "execution_count": null,
   "metadata": {
    "collapsed": true
   },
   "outputs": [],
   "source": []
  },
  {
   "cell_type": "code",
   "execution_count": null,
   "metadata": {
    "collapsed": true
   },
   "outputs": [],
   "source": []
  }
 ],
 "metadata": {
  "anaconda-cloud": {},
  "kernelspec": {
   "display_name": "Python [conda env:py3]",
   "language": "python",
   "name": "conda-env-py3-py"
  },
  "language_info": {
   "codemirror_mode": {
    "name": "ipython",
    "version": 3
   },
   "file_extension": ".py",
   "mimetype": "text/x-python",
   "name": "python",
   "nbconvert_exporter": "python",
   "pygments_lexer": "ipython3",
   "version": "3.5.3"
  }
 },
 "nbformat": 4,
 "nbformat_minor": 1
}
