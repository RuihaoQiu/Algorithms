{
 "cells": [
  {
   "cell_type": "markdown",
   "metadata": {},
   "source": [
    "## Neural network from scratch"
   ]
  },
  {
   "cell_type": "code",
   "execution_count": 78,
   "metadata": {},
   "outputs": [],
   "source": [
    "import numpy as np\n",
    "import random\n",
    "import math\n",
    "import copy\n",
    "import progressbar\n",
    "\n",
    "class StochasticGradientDescent():\n",
    "    def __init__(self, learning_rate=0.01, momentum=0):\n",
    "        self.learning_rate = learning_rate \n",
    "        self.momentum = momentum\n",
    "        self.w_updt = None\n",
    "\n",
    "    def update(self, w, grad_wrt_w):\n",
    "        if self.w_updt is None:\n",
    "            self.w_updt = np.zeros(np.shape(w))\n",
    "\n",
    "        self.w_updt = self.momentum * self.w_updt + (1 - self.momentum) * grad_wrt_w\n",
    "        return w - self.learning_rate * self.w_updt\n",
    "\n",
    "class layer():\n",
    "    def __init__(self, n_units=10, input_shape=None):\n",
    "        self.layer_input = None\n",
    "        self.input_shape = input_shape\n",
    "        self.n_units = n_units\n",
    "        self.W = None\n",
    "        self.W0 = None\n",
    "        \n",
    "    def set_input_shape(self, shape):\n",
    "        self.input_shape = shape\n",
    "        print(self.input_shape)\n",
    "        \n",
    "    def initialize(self, optimizer):\n",
    "        limit = 1 / math.sqrt(self.input_shape[1])\n",
    "        self.W  = np.random.uniform(-limit, limit, (self.input_shape[1], self.n_units))\n",
    "        self.W0 = np.zeros((1, self.n_units))\n",
    "        \n",
    "        self.W_opt  = copy.copy(optimizer)\n",
    "        self.W0_opt = copy.copy(optimizer)\n",
    "        \n",
    "    def forward_pass(self, X, training=True):\n",
    "        self.layer_input = X\n",
    "        return X.dot(self.W) + self.W0\n",
    "\n",
    "    def backward_pass(self, accum_grad):\n",
    "        W = self.W\n",
    "\n",
    "        if self.trainable:\n",
    "            grad_w = self.layer_input.T.dot(accum_grad)\n",
    "            grad_w0 = np.sum(accum_grad, axis=0, keepdims=True)\n",
    "\n",
    "            self.W = self.W_opt.update(self.W, grad_w)\n",
    "            self.w0 = self.w0_opt.update(self.w0, grad_w0)\n",
    "            \n",
    "        accum_grad = accum_grad.dot(W.T)\n",
    "        return accum_grad\n",
    "\n",
    "    def output_shape(self):\n",
    "        return (self.n_units, )\n",
    "    \n",
    "class CrossEntropy():\n",
    "    def __init__(self): \n",
    "        pass\n",
    "\n",
    "    def loss(self, y, p):\n",
    "        p = np.clip(p, 1e-15, 1 - 1e-15)\n",
    "        return - y * np.log(p) - (1 - y) * np.log(1 - p)\n",
    "\n",
    "    def acc(self, y, p):\n",
    "        return np.sum(np.argmax(y, axis=1) == np.argmax(p, axis=1), axis=0) / len(y)\n",
    "\n",
    "    def gradient(self, y, p):\n",
    "        p = np.clip(p, 1e-15, 1 - 1e-15)\n",
    "        return - (y / p) + (1 - y) / (1 - p)\n",
    "    \n",
    "\n",
    "class NeuralNetwork():\n",
    "    def __init__(self):\n",
    "        self.optimizer = StochasticGradientDescent()\n",
    "        self.layers = []\n",
    "        self.errors = {\"training\": [], \"validation\": []}\n",
    "        self.loss_function = CrossEntropy()\n",
    "        \n",
    "        \n",
    "    def add(self, layer):\n",
    "        if self.layers:\n",
    "            layer.set_input_shape(shape=self.layers[-1].output_shape())\n",
    "\n",
    "        if hasattr(layer, 'initialize'):\n",
    "            layer.initialize(optimizer=self.optimizer)\n",
    "\n",
    "        self.layers.append(layer)\n",
    "        \n",
    "        \n",
    "    def _forward_pass(self, X, training=True):\n",
    "        layer_output = X\n",
    "        for layer in self.layers:\n",
    "            layer_output = layer.forward_pass(layer_output, training)\n",
    "        return layer_output\n",
    "\n",
    "    \n",
    "    def _backward_pass(self, loss_grad):\n",
    "        for layer in reversed(self.layers):\n",
    "            loss_grad = layer.backward_pass(loss_grad)\n",
    "\n",
    "            \n",
    "    def train_on_batch(self, X, y):\n",
    "        y_pred = self._forward_pass(X)\n",
    "        loss = np.mean(self.loss_function.loss(y, y_pred))\n",
    "        acc = self.loss_function.acc(y, y_pred)\n",
    "        loss_grad = self.loss_function.gradient(y, y_pred)\n",
    "        self._backward_pass(loss_grad=loss_grad)\n",
    "        return loss, acc\n",
    "\n",
    "    \n",
    "    def test_on_batch(self, X, y):\n",
    "        y_pred = self._forward_pass(X, training=False)\n",
    "        loss = np.mean(self.loss_function.loss(y, y_pred))\n",
    "        acc = self.loss_function.acc(y, y_pred)\n",
    "    \n",
    "        \n",
    "    def fit(self, X, y, n_epochs, batch_size):\n",
    "        for _ in self.progressbar(range(n_epochs)):\n",
    "            \n",
    "            batch_error = []\n",
    "            for X_batch, y_batch in batch_iterator(X, y, batch_size=batch_size):\n",
    "                loss, _ = self.train_on_batch(X_batch, y_batch)\n",
    "                batch_error.append(loss)\n",
    "\n",
    "            self.errors[\"training\"].append(np.mean(batch_error))\n",
    "\n",
    "            if self.val_set is not None:\n",
    "                val_loss, _ = self.test_on_batch(self.val_set[\"X\"], self.val_set[\"y\"])\n",
    "                self.errors[\"validation\"].append(val_loss)\n",
    "\n",
    "        return self.errors[\"training\"], self.errors[\"validation\"]\n",
    "    \n",
    "\n",
    "    def predict(self, X):\n",
    "        return self._forward_pass(X, training=False)"
   ]
  },
  {
   "cell_type": "code",
   "execution_count": 79,
   "metadata": {},
   "outputs": [
    {
     "name": "stdout",
     "output_type": "stream",
     "text": [
      "(2, 3)\n"
     ]
    },
    {
     "ename": "AttributeError",
     "evalue": "type object 'layer' has no attribute 'layers'",
     "output_type": "error",
     "traceback": [
      "\u001b[0;31m---------------------------------------------------------------------------\u001b[0m",
      "\u001b[0;31mAttributeError\u001b[0m                            Traceback (most recent call last)",
      "\u001b[0;32m<ipython-input-79-900570804907>\u001b[0m in \u001b[0;36m<module>\u001b[0;34m()\u001b[0m\n\u001b[1;32m      6\u001b[0m \u001b[0mNN\u001b[0m \u001b[0;34m=\u001b[0m \u001b[0mNeuralNetwork\u001b[0m\u001b[0;34m(\u001b[0m\u001b[0;34m)\u001b[0m\u001b[0;34m\u001b[0m\u001b[0m\n\u001b[1;32m      7\u001b[0m \u001b[0mlayer\u001b[0m\u001b[0;34m(\u001b[0m\u001b[0;34m)\u001b[0m\u001b[0;34m.\u001b[0m\u001b[0mset_input_shape\u001b[0m\u001b[0;34m(\u001b[0m\u001b[0mshape\u001b[0m\u001b[0;34m=\u001b[0m\u001b[0mX\u001b[0m\u001b[0;34m.\u001b[0m\u001b[0mshape\u001b[0m\u001b[0;34m)\u001b[0m\u001b[0;34m\u001b[0m\u001b[0m\n\u001b[0;32m----> 8\u001b[0;31m \u001b[0mprint\u001b[0m\u001b[0;34m(\u001b[0m\u001b[0mlayer\u001b[0m\u001b[0;34m.\u001b[0m\u001b[0mlayers\u001b[0m\u001b[0;34m)\u001b[0m\u001b[0;34m\u001b[0m\u001b[0m\n\u001b[0m\u001b[1;32m      9\u001b[0m \u001b[0;31m#NN.add(layer(n_units=16))\u001b[0m\u001b[0;34m\u001b[0m\u001b[0;34m\u001b[0m\u001b[0m\n",
      "\u001b[0;31mAttributeError\u001b[0m: type object 'layer' has no attribute 'layers'"
     ]
    }
   ],
   "source": [
    "X = np.array([[9,8,7],[3,2,1]])\n",
    "y = np.array([[1,0],[0,1]])\n",
    "y_pred = np.array([[0.8,0.2],[0.3,0.7]])\n",
    "\n",
    "\n",
    "NN = NeuralNetwork()\n",
    "layer().set_input_shape(shape=X.shape)\n",
    "\n",
    "#NN.add(layer(n_units=16))"
   ]
  },
  {
   "cell_type": "code",
   "execution_count": 60,
   "metadata": {},
   "outputs": [
    {
     "ename": "AttributeError",
     "evalue": "type object 'StochasticGradientDescent' has no attribute 'input_shape'",
     "output_type": "error",
     "traceback": [
      "\u001b[0;31m---------------------------------------------------------------------------\u001b[0m",
      "\u001b[0;31mAttributeError\u001b[0m                            Traceback (most recent call last)",
      "\u001b[0;32m<ipython-input-60-27ffcc370f1e>\u001b[0m in \u001b[0;36m<module>\u001b[0;34m()\u001b[0m\n\u001b[0;32m----> 1\u001b[0;31m \u001b[0mlayer\u001b[0m\u001b[0;34m.\u001b[0m\u001b[0minitialize\u001b[0m\u001b[0;34m(\u001b[0m\u001b[0mStochasticGradientDescent\u001b[0m\u001b[0;34m)\u001b[0m\u001b[0;34m\u001b[0m\u001b[0m\n\u001b[0m",
      "\u001b[0;32m<ipython-input-53-44c70b7afc8e>\u001b[0m in \u001b[0;36minitialize\u001b[0;34m(self)\u001b[0m\n\u001b[1;32m     27\u001b[0m \u001b[0;34m\u001b[0m\u001b[0m\n\u001b[1;32m     28\u001b[0m     \u001b[0;32mdef\u001b[0m \u001b[0minitialize\u001b[0m\u001b[0;34m(\u001b[0m\u001b[0mself\u001b[0m\u001b[0;34m)\u001b[0m\u001b[0;34m:\u001b[0m\u001b[0;34m\u001b[0m\u001b[0m\n\u001b[0;32m---> 29\u001b[0;31m         \u001b[0mlimit\u001b[0m \u001b[0;34m=\u001b[0m \u001b[0;36m1\u001b[0m \u001b[0;34m/\u001b[0m \u001b[0mmath\u001b[0m\u001b[0;34m.\u001b[0m\u001b[0msqrt\u001b[0m\u001b[0;34m(\u001b[0m\u001b[0mself\u001b[0m\u001b[0;34m.\u001b[0m\u001b[0minput_shape\u001b[0m\u001b[0;34m[\u001b[0m\u001b[0;36m1\u001b[0m\u001b[0;34m]\u001b[0m\u001b[0;34m)\u001b[0m\u001b[0;34m\u001b[0m\u001b[0m\n\u001b[0m\u001b[1;32m     30\u001b[0m         \u001b[0mself\u001b[0m\u001b[0;34m.\u001b[0m\u001b[0mW\u001b[0m  \u001b[0;34m=\u001b[0m \u001b[0mnp\u001b[0m\u001b[0;34m.\u001b[0m\u001b[0mrandom\u001b[0m\u001b[0;34m.\u001b[0m\u001b[0muniform\u001b[0m\u001b[0;34m(\u001b[0m\u001b[0;34m-\u001b[0m\u001b[0mlimit\u001b[0m\u001b[0;34m,\u001b[0m \u001b[0mlimit\u001b[0m\u001b[0;34m,\u001b[0m \u001b[0;34m(\u001b[0m\u001b[0mself\u001b[0m\u001b[0;34m.\u001b[0m\u001b[0minput_shape\u001b[0m\u001b[0;34m[\u001b[0m\u001b[0;36m1\u001b[0m\u001b[0;34m]\u001b[0m\u001b[0;34m,\u001b[0m \u001b[0mself\u001b[0m\u001b[0;34m.\u001b[0m\u001b[0mn_units\u001b[0m\u001b[0;34m)\u001b[0m\u001b[0;34m)\u001b[0m\u001b[0;34m\u001b[0m\u001b[0m\n\u001b[1;32m     31\u001b[0m         \u001b[0mself\u001b[0m\u001b[0;34m.\u001b[0m\u001b[0mW0\u001b[0m \u001b[0;34m=\u001b[0m \u001b[0mnp\u001b[0m\u001b[0;34m.\u001b[0m\u001b[0mzeros\u001b[0m\u001b[0;34m(\u001b[0m\u001b[0;34m(\u001b[0m\u001b[0;36m1\u001b[0m\u001b[0;34m,\u001b[0m \u001b[0mself\u001b[0m\u001b[0;34m.\u001b[0m\u001b[0mn_units\u001b[0m\u001b[0;34m)\u001b[0m\u001b[0;34m)\u001b[0m\u001b[0;34m\u001b[0m\u001b[0m\n",
      "\u001b[0;31mAttributeError\u001b[0m: type object 'StochasticGradientDescent' has no attribute 'input_shape'"
     ]
    }
   ],
   "source": [
    "layer.initialize(StochasticGradientDescent)"
   ]
  },
  {
   "cell_type": "code",
   "execution_count": null,
   "metadata": {
    "collapsed": true
   },
   "outputs": [],
   "source": []
  }
 ],
 "metadata": {
  "anaconda-cloud": {},
  "celltoolbar": "Raw Cell Format",
  "kernelspec": {
   "display_name": "Python [conda env:py3]",
   "language": "python",
   "name": "conda-env-py3-py"
  },
  "language_info": {
   "codemirror_mode": {
    "name": "ipython",
    "version": 3
   },
   "file_extension": ".py",
   "mimetype": "text/x-python",
   "name": "python",
   "nbconvert_exporter": "python",
   "pygments_lexer": "ipython3",
   "version": "3.5.3"
  }
 },
 "nbformat": 4,
 "nbformat_minor": 2
}
