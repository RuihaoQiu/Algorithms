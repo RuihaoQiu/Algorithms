{
 "cells": [
  {
   "cell_type": "code",
   "execution_count": 116,
   "metadata": {},
   "outputs": [],
   "source": [
    "from __future__ import division, print_function\n",
    "import numpy as np\n",
    "import math\n",
    "\n",
    "class NaiveBayes():\n",
    "    \"\"\"The Gaussian Naive Bayes classifier. \"\"\"\n",
    "        \n",
    "    def fit(self, X, y):\n",
    "        self.X, self.y = X, y\n",
    "        self.classes = np.unique(y)\n",
    "        self.parameters = []\n",
    "        # Calculate the mean and variance of each feature for each class\n",
    "        for i, c in enumerate(self.classes):\n",
    "            X_c = X[np.where(y == c)]\n",
    "            self.parameters.append([])\n",
    "            for col in X_c.T:\n",
    "                parameters = {\"mean\": col.mean(), \"var\": col.var()}\n",
    "                self.parameters[i].append(parameters)\n",
    "\n",
    "    def _calculate_likelihood(self, mean, var, x):\n",
    "        coeff = 1.0 / math.sqrt(2.0 * math.pi * var + 1e-4)\n",
    "        exponent = math.exp(-(math.pow(x - mean, 2) / (2 * var + 1e-4)))\n",
    "        return coeff * exponent\n",
    "    \n",
    "    def _classify(self, sample):\n",
    "        \"\"\" \n",
    "        Classification using Bayes Rule P(Y|X) = P(X|Y)*P(Y)/P(X),\n",
    "        P(X|Y) = P(x1,x2,x3|Y) = P(x1|Y)*P(x2|Y)*P(x3|Y)\n",
    "        assume P(X) = 1\n",
    "        \"\"\"\n",
    "        posteriors = []\n",
    "        for i, c in enumerate(self.classes):\n",
    "            X_c = self.X[np.where(self.y == c)] \n",
    "            posterior = len(X_c)/len(self.X) # P(Y)\n",
    "            for feature_value, params in zip(sample, self.parameters[i]):\n",
    "                likelihood = self._calculate_likelihood(params[\"mean\"], params[\"var\"], feature_value)\n",
    "                posterior *= likelihood   # P(Y|X)\n",
    "            posteriors.append(posterior)\n",
    "        return self.classes[np.argmax(posteriors)]\n",
    "\n",
    "    def predict(self, X_test):\n",
    "        y_pred = [self._classify(sample) for sample in X_test]\n",
    "        return y_pred"
   ]
  },
  {
   "cell_type": "code",
   "execution_count": 118,
   "metadata": {},
   "outputs": [
    {
     "data": {
      "text/plain": [
       "[2, 0]"
      ]
     },
     "execution_count": 118,
     "metadata": {},
     "output_type": "execute_result"
    }
   ],
   "source": [
    "X = np.array([[1, 2, 3, 4, 5, 6], [2, 3, 4, 5, 6, 7]]).T\n",
    "y = np.array([0, 0, 1, 1, 2, 2])\n",
    "X_t=np.array([[7,8], [0,1]])\n",
    "NB = NaiveBayes()\n",
    "NB.fit(X, y)\n",
    "NB.predict(X_t)"
   ]
  },
  {
   "cell_type": "code",
   "execution_count": null,
   "metadata": {
    "collapsed": true
   },
   "outputs": [],
   "source": [
    "import re\n",
    "import collections\n",
    "import numpy as np\n",
    "import math\n",
    "\n",
    "def tokenize(message):\n",
    "    message = message.lower()\n",
    "    all_words = re.findall(\"[a-z0-9']+\", message)\n",
    "    return set(all_words)\n",
    "\n",
    "\"\"\"training set consists of pairs (message, is_spam)\"\"\"\n",
    "def count_words(training_set):\n",
    "    counts = collections.defaultdict(lambda: [0, 0])\n",
    "    for message, is_spam in training_set:\n",
    "        for word in tokenize(message):\n",
    "            counts[word][0 if is_spam else 1] += 1\n",
    "    return counts\n",
    "\n",
    "\"\"\"turn the word_counts into a list of triplets - w, p(w | spam) and p(w | ~spam)\"\"\"\n",
    "def word_probabilities(counts, total_spams, total_non_spams, k=0.5):\n",
    "    return [(w, (spam + k) / (total_spams + 2 * k), (non_spam + k) / (total_non_spams + 2 * k)) \n",
    "            for w, (spam, non_spam) in counts.items()]\n",
    "\n",
    "def spam_probability(word_probs, message):\n",
    "    message_words = tokenize(message)\n",
    "    log_prob_if_spam = log_prob_if_not_spam = 0.0\n",
    "    for word, prob_if_spam, prob_if_not_spam in word_probs:\n",
    "        if word in message_words:\n",
    "            log_prob_if_spam += math.log(prob_if_spam)\n",
    "            log_prob_if_not_spam += math.log(prob_if_not_spam)\n",
    "        else:\n",
    "            log_prob_if_spam += math.log(1.0 - prob_if_spam)\n",
    "            log_prob_if_not_spam += math.log(1.0 - prob_if_not_spam)\n",
    "                \n",
    "    prob_if_spam = math.exp(log_prob_if_spam)\n",
    "    prob_if_not_spam = math.exp(log_prob_if_not_spam)\n",
    "    return prob_if_spam / (prob_if_spam + prob_if_not_spam)\n",
    "\n",
    "class NaiveBayesClassifier:\n",
    "    def __init__(self, k=0.5):\n",
    "        self.k = k\n",
    "        self.word_probs = []\n",
    "    def train(self, training_set):\n",
    "        num_spams = len([is_spam\n",
    "                            for message, is_spam in training_set\n",
    "                            if is_spam])\n",
    "        num_non_spams = len(training_set) - num_spams\n",
    "        \n",
    "        word_counts = count_words(training_set)\n",
    "        self.word_probs = word_probabilities(word_counts,\n",
    "                                                num_spams,\n",
    "                                                num_non_spams,\n",
    "                                                self.k)\n",
    "    def classify(self, message):\n",
    "        return spam_probability(self.word_probs, message)\n"
   ]
  },
  {
   "cell_type": "code",
   "execution_count": null,
   "metadata": {
    "collapsed": true
   },
   "outputs": [],
   "source": [
    "from sklearn.model_selection import train_test_split\n",
    "import pickle\n",
    "import numpy as np\n",
    "\n",
    "authors_file = \"data/email_authors.pkl\"\n",
    "authors_file_handler = open(authors_file, \"rb\")\n",
    "authors = pickle.load(authors_file_handler)\n",
    "authors_file_handler.close()\n",
    "\n",
    "words_file = \"data/word_data.pkl\"\n",
    "words_file_handler = open(words_file, \"rb\")\n",
    "word_data = pickle.load(words_file_handler)\n",
    "words_file_handler.close()\n",
    "\n",
    "features_train, features_test, labels_train, labels_test = train_test_split(word_data, authors, test_size=0.1, random_state=42)\n",
    "\n",
    "train_data = list(zip(features_train, labels_train))\n",
    "test_data = list(zip(features_test, labels_test))"
   ]
  },
  {
   "cell_type": "code",
   "execution_count": null,
   "metadata": {
    "collapsed": true
   },
   "outputs": [],
   "source": [
    "classifier = NaiveBayesClassifier()\n",
    "classifier.train(train_data[:100])\n",
    "\n",
    "classified = [(subject, is_spam, classifier.classify(subject)) for subject, is_spam in test_data[:100]]"
   ]
  },
  {
   "cell_type": "code",
   "execution_count": null,
   "metadata": {},
   "outputs": [],
   "source": [
    "from numpy import linalg as LA\n",
    "\n",
    "text = features_train[:30]\n",
    "\n",
    "def vector_counts(text):\n",
    "    n_doc = len(text)\n",
    "    counts = collections.defaultdict(lambda: [0]*n_doc)\n",
    "    for n,m in enumerate(text):\n",
    "        for word in tokenize(m):\n",
    "                counts[word][n] += 1\n",
    "    mx = np.array([k for k in counts.values()]).T\n",
    "    return mx\n",
    "\n",
    "def Tfidf_transformer(vector):\n",
    "    n_d = vector.shape[0]\n",
    "    df_t = np.count_nonzero(vector, axis=0)\n",
    "    idf_t = np.log(n_d/df_t) + 1\n",
    "    tf_idf = vector * idf_t[None,:]\n",
    "    tf_idf = np.divide(tf_idf, LA.norm(tf_idf, axis=1)[:,None])\n",
    "    return tf_idf\n",
    "    \n",
    "Tfidf_transformer(vector_counts(text))"
   ]
  },
  {
   "cell_type": "code",
   "execution_count": null,
   "metadata": {
    "collapsed": true
   },
   "outputs": [],
   "source": []
  }
 ],
 "metadata": {
  "anaconda-cloud": {},
  "kernelspec": {
   "display_name": "Python [conda env:py3]",
   "language": "python",
   "name": "conda-env-py3-py"
  },
  "language_info": {
   "codemirror_mode": {
    "name": "ipython",
    "version": 3
   },
   "file_extension": ".py",
   "mimetype": "text/x-python",
   "name": "python",
   "nbconvert_exporter": "python",
   "pygments_lexer": "ipython3",
   "version": "3.5.3"
  }
 },
 "nbformat": 4,
 "nbformat_minor": 1
}
