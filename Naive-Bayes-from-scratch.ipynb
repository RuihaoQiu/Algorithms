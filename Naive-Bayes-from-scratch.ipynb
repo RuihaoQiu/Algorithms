{
 "cells": [
  {
   "cell_type": "code",
   "execution_count": 162,
   "metadata": {
    "collapsed": true
   },
   "outputs": [],
   "source": [
    "import re\n",
    "import collections\n",
    "import numpy as np\n",
    "import math\n",
    "\n",
    "def tokenize(message):\n",
    "    message = message.lower()\n",
    "    all_words = re.findall(\"[a-z0-9']+\", message)\n",
    "    return set(all_words)\n",
    "\n",
    "\"\"\"training set consists of pairs (message, is_spam)\"\"\"\n",
    "def count_words(training_set):\n",
    "    counts = collections.defaultdict(lambda: [0, 0])\n",
    "    for message, is_spam in training_set:\n",
    "        for word in tokenize(message):\n",
    "            counts[word][0 if is_spam else 1] += 1\n",
    "    return counts\n",
    "\n",
    "\"\"\"turn the word_counts into a list of triplets - w, p(w | spam) and p(w | ~spam)\"\"\"\n",
    "def word_probabilities(counts, total_spams, total_non_spams, k=0.5):\n",
    "    return [(w, (spam + k) / (total_spams + 2 * k), (non_spam + k) / (total_non_spams + 2 * k)) \n",
    "            for w, (spam, non_spam) in counts.items()]\n",
    "\n",
    "def spam_probability(word_probs, message):\n",
    "    message_words = tokenize(message)\n",
    "    log_prob_if_spam = log_prob_if_not_spam = 0.0\n",
    "    for word, prob_if_spam, prob_if_not_spam in word_probs:\n",
    "        if word in message_words:\n",
    "            log_prob_if_spam += math.log(prob_if_spam)\n",
    "            log_prob_if_not_spam += math.log(prob_if_not_spam)\n",
    "        else:\n",
    "            log_prob_if_spam += math.log(1.0 - prob_if_spam)\n",
    "            log_prob_if_not_spam += math.log(1.0 - prob_if_not_spam)\n",
    "                \n",
    "    prob_if_spam = math.exp(log_prob_if_spam)\n",
    "    prob_if_not_spam = math.exp(log_prob_if_not_spam)\n",
    "    return prob_if_spam / (prob_if_spam + prob_if_not_spam)\n",
    "\n",
    "class NaiveBayesClassifier:\n",
    "    def __init__(self, k=0.5):\n",
    "        self.k = k\n",
    "        self.word_probs = []\n",
    "    def train(self, training_set):\n",
    "        num_spams = len([is_spam\n",
    "                            for message, is_spam in training_set\n",
    "                            if is_spam])\n",
    "        num_non_spams = len(training_set) - num_spams\n",
    "        \n",
    "        word_counts = count_words(training_set)\n",
    "        self.word_probs = word_probabilities(word_counts,\n",
    "                                                num_spams,\n",
    "                                                num_non_spams,\n",
    "                                                self.k)\n",
    "    def classify(self, message):\n",
    "        return spam_probability(self.word_probs, message)\n"
   ]
  },
  {
   "cell_type": "code",
   "execution_count": 163,
   "metadata": {
    "collapsed": true
   },
   "outputs": [],
   "source": [
    "from sklearn.model_selection import train_test_split\n",
    "import pickle\n",
    "import numpy as np\n",
    "\n",
    "authors_file = \"data/email_authors.pkl\"\n",
    "authors_file_handler = open(authors_file, \"rb\")\n",
    "authors = pickle.load(authors_file_handler)\n",
    "authors_file_handler.close()\n",
    "\n",
    "words_file = \"data/word_data.pkl\"\n",
    "words_file_handler = open(words_file, \"rb\")\n",
    "word_data = pickle.load(words_file_handler)\n",
    "words_file_handler.close()\n",
    "\n",
    "features_train, features_test, labels_train, labels_test = train_test_split(word_data, authors, test_size=0.1, random_state=42)\n",
    "\n",
    "train_data = list(zip(features_train, labels_train))\n",
    "test_data = list(zip(features_test, labels_test))"
   ]
  },
  {
   "cell_type": "code",
   "execution_count": 164,
   "metadata": {
    "collapsed": true
   },
   "outputs": [],
   "source": [
    "classifier = NaiveBayesClassifier()\n",
    "classifier.train(train_data[:100])\n",
    "\n",
    "classified = [(subject, is_spam, classifier.classify(subject)) for subject, is_spam in test_data[:100]]"
   ]
  },
  {
   "cell_type": "code",
   "execution_count": 203,
   "metadata": {},
   "outputs": [
    {
     "data": {
      "text/plain": [
       "array([[ 0.,  0.,  0., ...,  0.,  0.,  0.],\n",
       "       [ 0.,  0.,  0., ...,  0.,  0.,  0.],\n",
       "       [ 0.,  0.,  0., ...,  0.,  0.,  0.],\n",
       "       ..., \n",
       "       [ 0.,  0.,  0., ...,  0.,  0.,  0.],\n",
       "       [ 0.,  0.,  0., ...,  0.,  0.,  0.],\n",
       "       [ 0.,  0.,  0., ...,  0.,  0.,  0.]])"
      ]
     },
     "execution_count": 203,
     "metadata": {},
     "output_type": "execute_result"
    }
   ],
   "source": [
    "from numpy import linalg as LA\n",
    "\n",
    "text = features_train[:30]\n",
    "\n",
    "def vector_counts(text):\n",
    "    n_doc = len(text)\n",
    "    counts = collections.defaultdict(lambda: [0]*n_doc)\n",
    "    for n,m in enumerate(text):\n",
    "        for word in tokenize(m):\n",
    "                counts[word][n] += 1\n",
    "    mx = np.array([k for k in counts.values()]).T\n",
    "    return mx\n",
    "\n",
    "def Tfidf_transformer(vector):\n",
    "    n_d = vector.shape[0]\n",
    "    df_t = np.count_nonzero(vector, axis=0)\n",
    "    idf_t = np.log(n_d/df_t) + 1\n",
    "    tf_idf = vector * idf_t[None,:]\n",
    "    tf_idf = np.divide(tf_idf, LA.norm(tf_idf, axis=1)[:,None])\n",
    "    return tf_idf\n",
    "    \n",
    "Tfidf_transformer(vector_counts(text))"
   ]
  },
  {
   "cell_type": "code",
   "execution_count": null,
   "metadata": {
    "collapsed": true
   },
   "outputs": [],
   "source": []
  }
 ],
 "metadata": {
  "kernelspec": {
   "display_name": "Python [conda env:py3]",
   "language": "python",
   "name": "conda-env-py3-py"
  },
  "language_info": {
   "codemirror_mode": {
    "name": "ipython",
    "version": 3
   },
   "file_extension": ".py",
   "mimetype": "text/x-python",
   "name": "python",
   "nbconvert_exporter": "python",
   "pygments_lexer": "ipython3",
   "version": "3.5.3"
  }
 },
 "nbformat": 4,
 "nbformat_minor": 1
}
