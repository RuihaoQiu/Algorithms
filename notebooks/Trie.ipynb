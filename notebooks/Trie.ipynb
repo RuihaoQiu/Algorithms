{
 "cells": [
  {
   "cell_type": "markdown",
   "metadata": {},
   "source": [
    "## Trie\n",
    "\n",
    "A trie is a tree-like data structure whose nodes store the letters of an alphabet."
   ]
  },
  {
   "cell_type": "code",
   "execution_count": 14,
   "metadata": {},
   "outputs": [],
   "source": [
    "import re\n",
    "from pytrie import StringTrie"
   ]
  },
  {
   "cell_type": "markdown",
   "metadata": {},
   "source": [
    "### Autocomplete"
   ]
  },
  {
   "cell_type": "code",
   "execution_count": 15,
   "metadata": {},
   "outputs": [],
   "source": [
    "def suggest(input_str, key_trie, top_n=10):\n",
    "    \"\"\"autocomplete the input_str, show the top_n suggestions with highest score\n",
    "    \"\"\"\n",
    "    input_low = input_str.lower()\n",
    "    out_items = key_trie.items(prefix=input_low)\n",
    "    out_sort = sorted(out_items, key=lambda tup: tup[1], reverse=True)\n",
    "    out_list = [i for i,v in out_sort[:top_n]]\n",
    "    return out_list"
   ]
  },
  {
   "cell_type": "code",
   "execution_count": 16,
   "metadata": {},
   "outputs": [],
   "source": [
    "key_dict =  dict({\"hello\":10, \"dog\":3, \"hell\":20, \"cat\":3, \"h\":4,  \n",
    "        \"hel\":15, \"help\":33, \"helps\":47, \"helping\":40})\n",
    "key_trie = StringTrie(key_dict)"
   ]
  },
  {
   "cell_type": "code",
   "execution_count": 17,
   "metadata": {},
   "outputs": [
    {
     "data": {
      "text/plain": [
       "['helps', 'helping', 'help', 'hell', 'hel', 'hello']"
      ]
     },
     "execution_count": 17,
     "metadata": {},
     "output_type": "execute_result"
    }
   ],
   "source": [
    "suggest(\"hel\", key_trie)"
   ]
  },
  {
   "cell_type": "markdown",
   "metadata": {},
   "source": [
    "An practical example - location autocomplete"
   ]
  },
  {
   "cell_type": "code",
   "execution_count": 18,
   "metadata": {},
   "outputs": [],
   "source": [
    "import pandas as pd\n",
    "input_file = \"data/worldcities.xlsx\"\n",
    "input_df = pd.read_excel(input_file)"
   ]
  },
  {
   "cell_type": "code",
   "execution_count": 24,
   "metadata": {},
   "outputs": [],
   "source": [
    "def make_trie(input_df):\n",
    "    input_df[\"fullname\"] = input_df[[\"city\", \"admin_name\", \"country\"]].apply(lambda x: ', '.join(x.astype(str).str.lower()), axis=1)\n",
    "    input_df[\"population\"] = input_df[\"population\"].fillna(0)\n",
    "    out_dict = dict(zip(input_df.fullname.str.lower(), input_df.population))\n",
    "    return StringTrie(out_dict)"
   ]
  },
  {
   "cell_type": "code",
   "execution_count": 25,
   "metadata": {},
   "outputs": [],
   "source": [
    "key_trie = make_trie(input_df)"
   ]
  },
  {
   "cell_type": "code",
   "execution_count": 26,
   "metadata": {},
   "outputs": [
    {
     "data": {
      "text/plain": [
       "['paris, île-de-france, france',\n",
       " 'parbhani, mahārāshtra, india',\n",
       " 'paraná, entre ríos, argentina',\n",
       " 'paramaribo, paramaribo, suriname',\n",
       " 'paradise, nevada, united states']"
      ]
     },
     "execution_count": 26,
     "metadata": {},
     "output_type": "execute_result"
    }
   ],
   "source": [
    "suggest(\"par\", key_trie, top_n=5)"
   ]
  },
  {
   "cell_type": "code",
   "execution_count": 27,
   "metadata": {},
   "outputs": [
    {
     "data": {
      "text/plain": [
       "['shanghai, shanghai, china',\n",
       " 'shangqiu, henan, china',\n",
       " 'shantou, guangdong, china',\n",
       " 'shangrao, jiangxi, china',\n",
       " 'sharjah, ash shāriqah, united arab emirates']"
      ]
     },
     "execution_count": 27,
     "metadata": {},
     "output_type": "execute_result"
    }
   ],
   "source": [
    "suggest(\"sha\", key_trie, top_n=5)"
   ]
  },
  {
   "cell_type": "code",
   "execution_count": 28,
   "metadata": {},
   "outputs": [
    {
     "data": {
      "text/plain": [
       "['berlin, berlin, germany',\n",
       " 'bern, bern, switzerland',\n",
       " 'bertoua, est, cameroon',\n",
       " 'bergen, hordaland, norway',\n",
       " 'bergamo, lombardy, italy']"
      ]
     },
     "execution_count": 28,
     "metadata": {},
     "output_type": "execute_result"
    }
   ],
   "source": [
    "suggest(\"ber\", key_trie, top_n=5)"
   ]
  },
  {
   "cell_type": "code",
   "execution_count": null,
   "metadata": {},
   "outputs": [],
   "source": []
  },
  {
   "cell_type": "code",
   "execution_count": null,
   "metadata": {},
   "outputs": [],
   "source": []
  },
  {
   "cell_type": "markdown",
   "metadata": {},
   "source": [
    "### Ray's search"
   ]
  },
  {
   "cell_type": "markdown",
   "metadata": {},
   "source": [
    "Another practical example - large key search"
   ]
  },
  {
   "cell_type": "code",
   "execution_count": 29,
   "metadata": {},
   "outputs": [],
   "source": [
    "from Trie import Trie\n",
    "import re"
   ]
  },
  {
   "cell_type": "code",
   "execution_count": 30,
   "metadata": {},
   "outputs": [],
   "source": [
    "def make_regex(input_list):\n",
    "    \"\"\"Build regex from trie structure.\n",
    "    \"\"\"\n",
    "    t = Trie()\n",
    "    for w in input_list:\n",
    "        t.add(w)\n",
    "    regex = re.compile(r\"\\b\" + t.pattern() + r\"\\b\", re.IGNORECASE)\n",
    "    return regex"
   ]
  },
  {
   "cell_type": "code",
   "execution_count": 42,
   "metadata": {},
   "outputs": [],
   "source": [
    "small_keys = [\"munich\", \"paris\", \"berlin\", \"brussels\"]\n",
    "regex_small = make_regex(small_keys)"
   ]
  },
  {
   "cell_type": "code",
   "execution_count": 43,
   "metadata": {},
   "outputs": [],
   "source": [
    "text = \"\"\"Amsterdam - Van Gogh Museum\n",
    "Paris –  Eiffel tower, Louvre Museum\n",
    "Munich – Oktoberfest\n",
    "Berlin – Zoo etc.\"\"\""
   ]
  },
  {
   "cell_type": "code",
   "execution_count": 44,
   "metadata": {},
   "outputs": [
    {
     "name": "stdout",
     "output_type": "stream",
     "text": [
      "CPU times: user 14 µs, sys: 1 µs, total: 15 µs\n",
      "Wall time: 18.1 µs\n"
     ]
    },
    {
     "data": {
      "text/plain": [
       "['Paris', 'Munich', 'Berlin']"
      ]
     },
     "execution_count": 44,
     "metadata": {},
     "output_type": "execute_result"
    }
   ],
   "source": [
    "%%time\n",
    "regex_small.findall(text)"
   ]
  },
  {
   "cell_type": "code",
   "execution_count": 45,
   "metadata": {},
   "outputs": [
    {
     "data": {
      "text/plain": [
       "15493"
      ]
     },
     "execution_count": 45,
     "metadata": {},
     "output_type": "execute_result"
    }
   ],
   "source": [
    "large_key = input_df.city.values\n",
    "len(large_key)"
   ]
  },
  {
   "cell_type": "code",
   "execution_count": 46,
   "metadata": {},
   "outputs": [],
   "source": [
    "regex_large = make_regex(input_df.city.values)"
   ]
  },
  {
   "cell_type": "code",
   "execution_count": 48,
   "metadata": {},
   "outputs": [
    {
     "name": "stdout",
     "output_type": "stream",
     "text": [
      "CPU times: user 67 µs, sys: 0 ns, total: 67 µs\n",
      "Wall time: 70.1 µs\n"
     ]
    },
    {
     "data": {
      "text/plain": [
       "['Amsterdam', 'Van', 'Paris', 'Munich', 'Berlin']"
      ]
     },
     "execution_count": 48,
     "metadata": {},
     "output_type": "execute_result"
    }
   ],
   "source": [
    "%%time\n",
    "regex_large.findall(text)"
   ]
  },
  {
   "cell_type": "markdown",
   "metadata": {},
   "source": [
    "Ref: \n",
    "\n",
    "Intro to Trie: https://medium.com/basecs/trying-to-understand-tries-3ec6bede0014\n",
    "pytrie: https://pytrie.readthedocs.io/en/latest/\n",
    "Trie script: https://gist.github.com/EricDuminil/8faabc2f3de82b24e5a371b6dc0fd1e0\n",
    "city data : https://simplemaps.com/data/world-cities"
   ]
  }
 ],
 "metadata": {
  "anaconda-cloud": {},
  "kernelspec": {
   "display_name": "Python [default]",
   "language": "python",
   "name": "python3"
  },
  "language_info": {
   "codemirror_mode": {
    "name": "ipython",
    "version": 3
   },
   "file_extension": ".py",
   "mimetype": "text/x-python",
   "name": "python",
   "nbconvert_exporter": "python",
   "pygments_lexer": "ipython3",
   "version": "3.6.6"
  }
 },
 "nbformat": 4,
 "nbformat_minor": 2
}
