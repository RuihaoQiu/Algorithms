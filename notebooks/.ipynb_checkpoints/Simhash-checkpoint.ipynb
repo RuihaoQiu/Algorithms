{
 "cells": [
  {
   "cell_type": "markdown",
   "metadata": {},
   "source": [
    "### Simhash\n",
    "In computer science, SimHash is a technique for quickly estimating how similar two sets are. The algorithm is used by the Google to find near duplicate webpages. It was created by Moses Charikar."
   ]
  },
  {
   "cell_type": "markdown",
   "metadata": {},
   "source": [
    "Algorithm:\n",
    "\n",
    "- set the hashsize, ex. 32 bits, initialize them all zero\n",
    "- break the phrase up into features (shingles)  \n",
    "'the cat sat on the mat' </b>\n",
    "-> {\"th\", \"he\", \"e \", \" c\", \"ca\", \"at\", \"t \",</b>\n",
    "    \" s\", \"sa\", \" o\", \"on\", \"n \", \" t\", \" m\", \"ma\"}</b>\n",
    "- hash each feature using a normal 32-bit hash algorithm ex. md5</b>\n",
    "\"th\" -> 10010010...</b>\n",
    "\"he\" -> 10010110...</b>\n",
    "- set all zero to -1, sum them. \n",
    "- generate simhash - 1: T[i]>0, 0: T[i]<0"
   ]
  },
  {
   "cell_type": "code",
   "execution_count": 228,
   "metadata": {},
   "outputs": [],
   "source": [
    "import re\n",
    "import hashlib\n",
    "from simhash import Simhash"
   ]
  },
  {
   "cell_type": "code",
   "execution_count": 167,
   "metadata": {},
   "outputs": [],
   "source": [
    "def make_features(input_str):\n",
    "    width = 3\n",
    "    input_str = input_str.lower()\n",
    "    out_str = re.sub(r'[^\\w]+', '', input_str)\n",
    "    return [out_str[i:i + width] for i in range(max(len(out_str) - width + 1, 1))]"
   ]
  },
  {
   "cell_type": "code",
   "execution_count": 165,
   "metadata": {},
   "outputs": [],
   "source": [
    "def make_simhash(input_str):\n",
    "    features = make_features(input_str)\n",
    "    return Simhash(features).value"
   ]
  },
  {
   "cell_type": "code",
   "execution_count": 168,
   "metadata": {},
   "outputs": [
    {
     "data": {
      "text/plain": [
       "['hel', 'ell', 'llo', 'low', 'owo', 'wor', 'orl', 'rld']"
      ]
     },
     "execution_count": 168,
     "metadata": {},
     "output_type": "execute_result"
    }
   ],
   "source": [
    "make_features(\"hello world\")"
   ]
  },
  {
   "cell_type": "code",
   "execution_count": 166,
   "metadata": {},
   "outputs": [
    {
     "data": {
      "text/plain": [
       "13548364882372308181"
      ]
     },
     "execution_count": 166,
     "metadata": {},
     "output_type": "execute_result"
    }
   ],
   "source": [
    "make_simhash(\"hello world\")"
   ]
  },
  {
   "cell_type": "code",
   "execution_count": 224,
   "metadata": {},
   "outputs": [
    {
     "data": {
      "text/plain": [
       "14"
      ]
     },
     "execution_count": 224,
     "metadata": {},
     "output_type": "execute_result"
    }
   ],
   "source": [
    "text_1 = \"Good job\"\n",
    "text_2 = \"Good job, ray\"\n",
    "\n",
    "Simhash(text_1).distance(Simhash(text_2))"
   ]
  },
  {
   "cell_type": "code",
   "execution_count": 225,
   "metadata": {},
   "outputs": [],
   "source": [
    "hash_1 = Simhash(text_1).value\n",
    "hash_2 = Simhash(text_2).value"
   ]
  },
  {
   "cell_type": "code",
   "execution_count": 226,
   "metadata": {},
   "outputs": [],
   "source": [
    "def simhash_diff(hash_1, hash_2):\n",
    "    \"\"\"calcuate the difference from two simhash values.\n",
    "    \"\"\"\n",
    "    x = (hash_1 ^ hash_2) & ((1 << 64) - 1)\n",
    "    ans = 0\n",
    "    while x:\n",
    "        ans += 1\n",
    "        x &= x - 1\n",
    "    return ans"
   ]
  },
  {
   "cell_type": "code",
   "execution_count": 227,
   "metadata": {},
   "outputs": [
    {
     "data": {
      "text/plain": [
       "14"
      ]
     },
     "execution_count": 227,
     "metadata": {},
     "output_type": "execute_result"
    }
   ],
   "source": [
    "simhash_diff(hash_1, hash_2)"
   ]
  },
  {
   "cell_type": "markdown",
   "metadata": {},
   "source": [
    "Ref\n",
    "\n",
    "Google paper - http://www.wwwconference.org/www2007/papers/paper215.pdf\n",
    "Implement code - https://github.com/leonsim/simhash"
   ]
  }
 ],
 "metadata": {
  "anaconda-cloud": {},
  "kernelspec": {
   "display_name": "Python [default]",
   "language": "python",
   "name": "python3"
  },
  "language_info": {
   "codemirror_mode": {
    "name": "ipython",
    "version": 3
   },
   "file_extension": ".py",
   "mimetype": "text/x-python",
   "name": "python",
   "nbconvert_exporter": "python",
   "pygments_lexer": "ipython3",
   "version": "3.6.6"
  }
 },
 "nbformat": 4,
 "nbformat_minor": 2
}
