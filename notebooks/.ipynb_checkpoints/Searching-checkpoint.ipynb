{
 "cells": [
  {
   "cell_type": "markdown",
   "metadata": {},
   "source": [
    "## Searching Algorithms\n",
    "\n",
    "- linear search\n",
    "- binary search"
   ]
  },
  {
   "cell_type": "code",
   "execution_count": 1,
   "metadata": {},
   "outputs": [],
   "source": [
    "import random\n",
    "A = list(range(10))"
   ]
  },
  {
   "cell_type": "code",
   "execution_count": 2,
   "metadata": {},
   "outputs": [
    {
     "name": "stdout",
     "output_type": "stream",
     "text": [
      "[0, 1, 2, 3, 4, 5, 6, 7, 8, 9]\n"
     ]
    },
    {
     "data": {
      "text/plain": [
       "4"
      ]
     },
     "execution_count": 2,
     "metadata": {},
     "output_type": "execute_result"
    }
   ],
   "source": [
    "## linear search : search from left to right, return index when match, O(N)\n",
    "\n",
    "def linear_search(X, x):\n",
    "  for i in range(len(X)):\n",
    "    if X[i]==x:\n",
    "      return i\n",
    "      break\n",
    "\n",
    "print(A)\n",
    "linear_search(A, 4)"
   ]
  },
  {
   "cell_type": "code",
   "execution_count": 3,
   "metadata": {},
   "outputs": [
    {
     "name": "stdout",
     "output_type": "stream",
     "text": [
      "[0, 1, 2, 3, 4, 5, 6, 7, 8, 9]\n"
     ]
    },
    {
     "data": {
      "text/plain": [
       "7"
      ]
     },
     "execution_count": 3,
     "metadata": {},
     "output_type": "execute_result"
    }
   ],
   "source": [
    "## binary search : only for sorted array, repeatedly dividing the search interval in half, O(logN)\n",
    "A = list(range(10))\n",
    "\n",
    "def binary_search(X, x, l, r):\n",
    "  if r >= l: \n",
    "    mid = l + (r - l)//2\n",
    "    if X[mid] == x:\n",
    "      return mid\n",
    "    elif X[mid] > x:\n",
    "      return binary_search(X, x, l=0, r=mid-1)\n",
    "    else:\n",
    "      return binary_search(X, x, l=mid+1, r=len(X))\n",
    "  else:\n",
    "    return \"Not found!\"\n",
    "    \n",
    "print(A)\n",
    "binary_search(A, 7, l=0, r=len(A))"
   ]
  },
  {
   "cell_type": "code",
   "execution_count": null,
   "metadata": {
    "collapsed": true
   },
   "outputs": [],
   "source": []
  }
 ],
 "metadata": {
  "anaconda-cloud": {},
  "kernelspec": {
   "display_name": "Python [conda env:py3]",
   "language": "python",
   "name": "conda-env-py3-py"
  },
  "language_info": {
   "codemirror_mode": {
    "name": "ipython",
    "version": 3
   },
   "file_extension": ".py",
   "mimetype": "text/x-python",
   "name": "python",
   "nbconvert_exporter": "python",
   "pygments_lexer": "ipython3",
   "version": "3.6.6"
  }
 },
 "nbformat": 4,
 "nbformat_minor": 2
}
