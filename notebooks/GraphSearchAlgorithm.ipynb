{
 "cells": [
  {
   "cell_type": "markdown",
   "metadata": {},
   "source": [
    "## Graph search algorithm\n",
    "\n",
    "In a m*n grid, walk from the most north-west point A to south-east point B, by taking the unit step towards either south or east in equal probability. Implement an graph search algorithm to:\n",
    "\n",
    "- find a path\n",
    "- find all the path\n",
    "- calculate the average deviation for each route\n",
    "- calculate the mean and standard deviation for all routes\n"
   ]
  },
  {
   "cell_type": "code",
   "execution_count": 6,
   "metadata": {},
   "outputs": [
    {
     "data": {
      "text/plain": [
       "{(0, 0): [(1, 0), (0, 1)],\n",
       " (0, 1): [(1, 1), (0, 2)],\n",
       " (0, 2): [(1, 2), (0, 3)],\n",
       " (0, 3): [(1, 3)],\n",
       " (1, 0): [(2, 0), (1, 1)],\n",
       " (1, 1): [(2, 1), (1, 2)],\n",
       " (1, 2): [(2, 2), (1, 3)],\n",
       " (1, 3): [(2, 3)],\n",
       " (2, 0): [(3, 0), (2, 1)],\n",
       " (2, 1): [(3, 1), (2, 2)],\n",
       " (2, 2): [(3, 2), (2, 3)],\n",
       " (2, 3): [(3, 3)],\n",
       " (3, 0): [(3, 1)],\n",
       " (3, 1): [(3, 2)],\n",
       " (3, 2): [(3, 3)]}"
      ]
     },
     "execution_count": 6,
     "metadata": {},
     "output_type": "execute_result"
    }
   ],
   "source": [
    "import numpy as np\n",
    "import random\n",
    "\n",
    "m,n = 3,3\n",
    "start = (0,0)\n",
    "end = (m,n)\n",
    "\n",
    "def make_graph(m, n):\n",
    "    graph = dict()\n",
    "    for i in range(m+1):\n",
    "        for j in range(n+1):\n",
    "            if i<m and j<n:\n",
    "                graph[(i,j)] = [(i+1, j), (i, j+1)]\n",
    "            elif i<m:\n",
    "                graph[(i,j)] = [(i+1, j)]\n",
    "            elif j<n:\n",
    "                graph[(i,j)] = [(i, j+1)] \n",
    "    return graph\n",
    "\n",
    "graph = make_graph(m, n)\n",
    "graph"
   ]
  },
  {
   "cell_type": "code",
   "execution_count": 12,
   "metadata": {},
   "outputs": [
    {
     "data": {
      "text/plain": [
       "[(0, 0), (1, 0), (1, 1), (1, 2), (1, 3), (2, 3), (3, 3)]"
      ]
     },
     "execution_count": 12,
     "metadata": {},
     "output_type": "execute_result"
    }
   ],
   "source": [
    "## find a path\n",
    "def find_a_path(graph, start, end, path=[]):\n",
    "    path = path + [start]\n",
    "    if start == end:\n",
    "        return path\n",
    "    if len(graph[start]) == 2:\n",
    "        node = graph[start][random.randint(0, 1)]\n",
    "    else:\n",
    "        node = graph[start][0]\n",
    "    if node not in path:\n",
    "        newpath = find_a_path(graph, node, end, path)\n",
    "        if newpath: return newpath\n",
    "    return None\n",
    "\n",
    "\n",
    "a_path = find_a_path(graph, start, end)\n",
    "a_path"
   ]
  },
  {
   "cell_type": "code",
   "execution_count": 20,
   "metadata": {},
   "outputs": [
    {
     "data": {
      "text/plain": [
       "[[(0, 0), (1, 0), (2, 0), (3, 0), (3, 1), (3, 2), (3, 3)],\n",
       " [(0, 0), (1, 0), (2, 0), (2, 1), (3, 1), (3, 2), (3, 3)],\n",
       " [(0, 0), (1, 0), (2, 0), (2, 1), (2, 2), (3, 2), (3, 3)],\n",
       " [(0, 0), (1, 0), (2, 0), (2, 1), (2, 2), (2, 3), (3, 3)],\n",
       " [(0, 0), (1, 0), (1, 1), (2, 1), (3, 1), (3, 2), (3, 3)],\n",
       " [(0, 0), (1, 0), (1, 1), (2, 1), (2, 2), (3, 2), (3, 3)],\n",
       " [(0, 0), (1, 0), (1, 1), (2, 1), (2, 2), (2, 3), (3, 3)],\n",
       " [(0, 0), (1, 0), (1, 1), (1, 2), (2, 2), (3, 2), (3, 3)],\n",
       " [(0, 0), (1, 0), (1, 1), (1, 2), (2, 2), (2, 3), (3, 3)],\n",
       " [(0, 0), (1, 0), (1, 1), (1, 2), (1, 3), (2, 3), (3, 3)],\n",
       " [(0, 0), (0, 1), (1, 1), (2, 1), (3, 1), (3, 2), (3, 3)],\n",
       " [(0, 0), (0, 1), (1, 1), (2, 1), (2, 2), (3, 2), (3, 3)],\n",
       " [(0, 0), (0, 1), (1, 1), (2, 1), (2, 2), (2, 3), (3, 3)],\n",
       " [(0, 0), (0, 1), (1, 1), (1, 2), (2, 2), (3, 2), (3, 3)],\n",
       " [(0, 0), (0, 1), (1, 1), (1, 2), (2, 2), (2, 3), (3, 3)],\n",
       " [(0, 0), (0, 1), (1, 1), (1, 2), (1, 3), (2, 3), (3, 3)],\n",
       " [(0, 0), (0, 1), (0, 2), (1, 2), (2, 2), (3, 2), (3, 3)],\n",
       " [(0, 0), (0, 1), (0, 2), (1, 2), (2, 2), (2, 3), (3, 3)],\n",
       " [(0, 0), (0, 1), (0, 2), (1, 2), (1, 3), (2, 3), (3, 3)],\n",
       " [(0, 0), (0, 1), (0, 2), (0, 3), (1, 3), (2, 3), (3, 3)]]"
      ]
     },
     "execution_count": 20,
     "metadata": {},
     "output_type": "execute_result"
    }
   ],
   "source": [
    "## find all path\n",
    "def find_all_paths(graph, start, end, path=[]):\n",
    "    path = path + [start]\n",
    "    if start == end:\n",
    "        return [path]\n",
    "    paths = []\n",
    "    for node in graph[start]:\n",
    "        if node not in path:\n",
    "            newpaths = find_all_paths(graph, node, end, path)\n",
    "            for newpath in newpaths:\n",
    "                paths.append(newpath)\n",
    "    return paths\n",
    "\n",
    "all_paths = find_all_paths(graph, start, end)\n",
    "all_paths"
   ]
  },
  {
   "cell_type": "code",
   "execution_count": 10,
   "metadata": {},
   "outputs": [
    {
     "data": {
      "text/plain": [
       "array([[ 0.        ,  0.33333333,  0.66666667,  1.        ],\n",
       "       [ 0.33333333,  0.        ,  0.33333333,  0.66666667],\n",
       "       [ 0.66666667,  0.33333333,  0.        ,  0.33333333],\n",
       "       [ 1.        ,  0.66666667,  0.33333333,  0.        ]])"
      ]
     },
     "execution_count": 10,
     "metadata": {},
     "output_type": "execute_result"
    }
   ],
   "source": [
    "## D mapping\n",
    "def make_D(m, n):\n",
    "    D = np.empty(shape=[m+1, n+1])\n",
    "    for i in range(m+1):\n",
    "        for j in range(n+1):\n",
    "            D[i][j] = max(i*1./m-j*1./n, j*1./n-i*1./m)\n",
    "    return D\n",
    "\n",
    "D = make_D(m, n)\n",
    "D"
   ]
  },
  {
   "cell_type": "code",
   "execution_count": 24,
   "metadata": {},
   "outputs": [
    {
     "name": "stdout",
     "output_type": "stream",
     "text": [
      "Total and average deviation of a path: 1.667,   0.28\n",
      "Average D for each path:\n",
      " [ 0.5         0.38888889  0.27777778  0.27777778  0.27777778  0.16666667\n",
      "  0.16666667  0.16666667  0.16666667  0.27777778  0.27777778  0.16666667\n",
      "  0.16666667  0.16666667  0.16666667  0.27777778  0.27777778  0.27777778\n",
      "  0.38888889  0.5       ]\n"
     ]
    }
   ],
   "source": [
    "## calculate D for each path\n",
    "def calc_D(D, path):\n",
    "    Ds = []\n",
    "    for k in range(len(path)-1):\n",
    "        i,j = path[k+1]\n",
    "        Ds.append(D[i][j])\n",
    "    return Ds\n",
    "\n",
    "Ds = calc_D(D, a_path)\n",
    "print(\"Total and average deviation of a path: {0:5.3f}, {1:6.2f}\".format(sum(Ds), sum(Ds)/len(Ds)))\n",
    "\n",
    "D_path = []\n",
    "for path in all_paths:\n",
    "    Ds = calc_D(D, path)\n",
    "    D_path.append(sum(Ds)/len(Ds))\n",
    "    \n",
    "print(\"Average D for each path:\\n\", np.array(D_path))"
   ]
  },
  {
   "cell_type": "code",
   "execution_count": 25,
   "metadata": {
    "collapsed": true
   },
   "outputs": [],
   "source": [
    "## calculate probability\n",
    "def get_prob(m, n):\n",
    "    prob = dict()\n",
    "    for i in range(m+1):\n",
    "        for j in range(n+1):\n",
    "            if i<m and j<n:\n",
    "                prob[(i,j)] = 0.5\n",
    "            else:\n",
    "                prob[(i,j)] = 1\n",
    "    return prob"
   ]
  },
  {
   "cell_type": "code",
   "execution_count": 27,
   "metadata": {},
   "outputs": [
    {
     "name": "stdout",
     "output_type": "stream",
     "text": [
      "The mean and standard deviation of D mean: 0.3194444444, 0.1234471447.\n"
     ]
    }
   ],
   "source": [
    "## find all paths for m=3, n=3\n",
    "m = 3; n = 3\n",
    "D = make_D(m, n)\n",
    "graph = make_graph(m,n)\n",
    "prob = get_prob(m,n)\n",
    "all_paths = find_all_paths(graph, start, end)\n",
    "\n",
    "D_path = []\n",
    "prob_path = []\n",
    "for path in all_paths:\n",
    "    D_sum = 0\n",
    "    D_prob = 1\n",
    "    for k in range(len(path)-1):\n",
    "        i,j = path[k+1]\n",
    "        D_sum = D_sum + D[i][j]\n",
    "        D_prob = D_prob*prob[path[k]]\n",
    "    prob_path.append(D_prob)\n",
    "    D_path.append(D_sum/(len(path)-1))\n",
    "\n",
    "mean = np.sum(np.multiply(prob_path, D_path))\n",
    "std = np.sqrt(np.sum(np.multiply(prob_path, (D_path-mean)**2)))\n",
    "\n",
    "print(\"The mean and standard deviation of D mean: {0:12.10f}, {1:12.10f}.\".format(mean, std))"
   ]
  },
  {
   "cell_type": "markdown",
   "metadata": {},
   "source": [
    "### Sampling method\n",
    "\n",
    "When m, n is large, we are not able to search all path, therefore, we use random sampling method instead, to approximate the statistics we are interested in."
   ]
  },
  {
   "cell_type": "code",
   "execution_count": 33,
   "metadata": {},
   "outputs": [
    {
     "name": "stdout",
     "output_type": "stream",
     "text": [
      "Use sampling method, when m=30, n=30\n",
      "The mean and standard deviation of D: 0.1224730000, 0.1033561687.\n",
      "Conditional probability that D is greater than 0.6 given that it is greater than 0.2: 0.0032789799. \n",
      "\n"
     ]
    }
   ],
   "source": [
    "## sampling method\n",
    "\n",
    "def sampling_method(m,n, n_steps=10000):\n",
    "    D = make_D(m, n)\n",
    "    graph = make_graph(m,n)\n",
    "    D_all = []\n",
    "    for i in range(n_steps):\n",
    "        a_path = find_a_path(graph, start, (m,n))\n",
    "        D_all.append(calc_D(D, a_path))\n",
    "\n",
    "    print(\"Use sampling method, when m={0:2d}, n={1:2d}\".format(m, n))\n",
    "    print(\"The mean and standard deviation of D: {0:12.10f}, {1:12.10f}.\".format(np.mean(D_all), np.std(D_all)))\n",
    "\n",
    "## we can further calculate the condition probability by adding the following codes\n",
    "    D_all = np.array(D_all).flatten()\n",
    "    n_A = len([x for x in D_all if x>0.2])\n",
    "    n_B = len([x for x in D_all if x>0.6])\n",
    "    prob_BA = n_B/n_A\n",
    "    print(\"Conditional probability that D is greater than 0.6 given that it is greater than 0.2: {0:12.10f}. \\n\".format(prob_BA))\n",
    "\n",
    "sampling_method(30, 30)"
   ]
  }
 ],
 "metadata": {
  "anaconda-cloud": {},
  "kernelspec": {
   "display_name": "Python [conda env:py3]",
   "language": "python",
   "name": "conda-env-py3-py"
  },
  "language_info": {
   "codemirror_mode": {
    "name": "ipython",
    "version": 3
   },
   "file_extension": ".py",
   "mimetype": "text/x-python",
   "name": "python",
   "nbconvert_exporter": "python",
   "pygments_lexer": "ipython3",
   "version": "3.5.3"
  }
 },
 "nbformat": 4,
 "nbformat_minor": 2
}
