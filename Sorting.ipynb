{
 "cells": [
  {
   "cell_type": "markdown",
   "metadata": {},
   "source": [
    "## Sorting algorithms\n",
    "\n",
    "- Simple sorts - O(n**2) : bubble sort, insertion sort and selection sort.\n",
    "- Efficient sorts - O(n*logn) : heap sort, merge sort and quicksort."
   ]
  },
  {
   "cell_type": "code",
   "execution_count": 1,
   "metadata": {},
   "outputs": [],
   "source": [
    "import random\n",
    "A = list(range(10))"
   ]
  },
  {
   "cell_type": "markdown",
   "metadata": {},
   "source": [
    "### Simple sorts"
   ]
  },
  {
   "cell_type": "code",
   "execution_count": 2,
   "metadata": {},
   "outputs": [
    {
     "name": "stdout",
     "output_type": "stream",
     "text": [
      "[6, 0, 1, 7, 2, 4, 3, 5, 8, 9]\n"
     ]
    },
    {
     "data": {
      "text/plain": [
       "[0, 1, 2, 3, 4, 5, 6, 7, 8, 9]"
      ]
     },
     "execution_count": 2,
     "metadata": {},
     "output_type": "execute_result"
    }
   ],
   "source": [
    "## bubble sort : pair exchange until sorted\n",
    "\n",
    "random.shuffle(A)\n",
    "def bubble_sort(X):\n",
    "  changed = True\n",
    "  while changed:\n",
    "    changed = False\n",
    "    for i in range(len(X) - 1):\n",
    "      if X[i] > X[i+1]:\n",
    "        X[i], X[i+1] = X[i+1], X[i]\n",
    "        changed = True\n",
    "  return X\n",
    "\n",
    "print(A)\n",
    "bubble_sort(A)"
   ]
  },
  {
   "cell_type": "code",
   "execution_count": 3,
   "metadata": {},
   "outputs": [
    {
     "name": "stdout",
     "output_type": "stream",
     "text": [
      "[8, 0, 4, 2, 6, 7, 9, 1, 3, 5]\n"
     ]
    },
    {
     "data": {
      "text/plain": [
       "[0, 1, 2, 3, 4, 5, 6, 7, 8, 9]"
      ]
     },
     "execution_count": 3,
     "metadata": {},
     "output_type": "execute_result"
    }
   ],
   "source": [
    "## insertion sort : from left to right, insert next element to the sorted array\n",
    "\n",
    "random.shuffle(A)\n",
    "\n",
    "def insertion_sort(X):\n",
    "  for i in range(1, len(X)):\n",
    "    j = i-1 \n",
    "    key = X[i]\n",
    "    while (X[j] > key) and (j >= 0):\n",
    "      X[j+1] = X[j]\n",
    "      j -= 1\n",
    "      X[j+1] = key\n",
    "  return X\n",
    "\n",
    "print(A)\n",
    "insertion_sort(A)"
   ]
  },
  {
   "cell_type": "code",
   "execution_count": 4,
   "metadata": {},
   "outputs": [
    {
     "name": "stdout",
     "output_type": "stream",
     "text": [
      "[0, 2, 9, 6, 3, 7, 1, 5, 8, 4]\n"
     ]
    },
    {
     "data": {
      "text/plain": [
       "[0, 1, 2, 3, 4, 5, 6, 7, 8, 9]"
      ]
     },
     "execution_count": 4,
     "metadata": {},
     "output_type": "execute_result"
    }
   ],
   "source": [
    "## selection sort : from left to right, find the minimum of the right part stack to the left\n",
    "\n",
    "random.shuffle(A)\n",
    "def selection_sort(X):\n",
    "  for i, e in enumerate(X):\n",
    "    mn = min(range(i,len(X)), key=X.__getitem__) ## find the minimum for i to len(X)\n",
    "    X[i], X[mn] = X[mn], e\n",
    "  return X\n",
    "\n",
    "print(A)\n",
    "selection_sort(A)"
   ]
  },
  {
   "cell_type": "markdown",
   "metadata": {},
   "source": [
    "### Efficient sorts"
   ]
  },
  {
   "cell_type": "code",
   "execution_count": 5,
   "metadata": {},
   "outputs": [
    {
     "name": "stdout",
     "output_type": "stream",
     "text": [
      "[2, 9, 3, 8, 5, 6, 1, 0, 7, 4]\n"
     ]
    },
    {
     "data": {
      "text/plain": [
       "[0, 1, 2, 3, 4, 5, 6, 7, 8, 9]"
      ]
     },
     "execution_count": 5,
     "metadata": {},
     "output_type": "execute_result"
    }
   ],
   "source": [
    "## quick sort : recursively choose pivots, put the smaller values at left and the larger at right\n",
    "## worst case may cause O(n**2), but normally random choose of pivot will cause O(n*logn)\n",
    "\n",
    "random.shuffle(A)\n",
    "def quick_sort(X):\n",
    "  less = []\n",
    "  pivots = []\n",
    "  more = []\n",
    "\n",
    "  if len(X) <= 1:\n",
    "    return arr\n",
    "  else:\n",
    "    pivot = X[0]\n",
    "    for i in X:\n",
    "      if i < pivot:\n",
    "        less.append(i)\n",
    "      elif i > pivot:\n",
    "        more.append(i)\n",
    "      else:\n",
    "        pivots.append(i)\n",
    "    less = quickSort(less)\n",
    "    more = quickSort(more)\n",
    "    \n",
    "  return less + pivots + more\n",
    "\n",
    "print(A)\n",
    "selection_sort(A)"
   ]
  },
  {
   "cell_type": "code",
   "execution_count": 6,
   "metadata": {},
   "outputs": [
    {
     "name": "stdout",
     "output_type": "stream",
     "text": [
      "[9, 4, 3, 2, 7, 8, 6, 0, 1, 5]\n"
     ]
    },
    {
     "data": {
      "text/plain": [
       "[0, 1, 2, 3, 4, 5, 6, 7, 8, 9]"
      ]
     },
     "execution_count": 6,
     "metadata": {},
     "output_type": "execute_result"
    }
   ],
   "source": [
    "## merge sort : sequentially append maximum and minimum the two list, then append them\n",
    "\n",
    "random.shuffle(A)\n",
    "def merge_sort(X):\n",
    "  start = []\n",
    "  end = []\n",
    "  while len(X) > 1:\n",
    "    s = min(X)\n",
    "    e = max(X)\n",
    "    start.append(s)\n",
    "    end.append(e)\n",
    "    X.remove(s)\n",
    "    X.remove(e)\n",
    "  if X: start.append(X[0])\n",
    "  end.reverse()\n",
    "  return start + end\n",
    "\n",
    "print(A)\n",
    "merge_sort(A)"
   ]
  },
  {
   "cell_type": "code",
   "execution_count": 7,
   "metadata": {},
   "outputs": [
    {
     "name": "stdout",
     "output_type": "stream",
     "text": [
      "[0, 7, 4, 2, 8, 5, 3, 9, 1, 6]\n"
     ]
    },
    {
     "data": {
      "text/plain": [
       "[0, 1, 2, 3, 4, 5, 6, 7, 8, 9]"
      ]
     },
     "execution_count": 7,
     "metadata": {},
     "output_type": "execute_result"
    }
   ],
   "source": [
    "## heap sort : continuesly creat max heap to find the largest value and stack it\n",
    "\n",
    "A = list(range(10))\n",
    "random.shuffle(A)\n",
    "def heapify(X, index, heap_size):\n",
    "  mx = index\n",
    "  l = 2 * index + 1\n",
    "  r = 2 * index + 2\n",
    "  if l < heap_size and X[l] > X[mx]:\n",
    "    mx = l \n",
    "  if r < heap_size and X[r] > X[mx]:\n",
    "    mx = r\n",
    "  if mx != index:\n",
    "    X[mx], X[index] = X[index], X[mx]\n",
    "    heapify(X, mx, heap_size)\n",
    "\n",
    "def heap_sort(X):\n",
    "  n = len(X)\n",
    "  for i in range(n // 2 - 1, -1, -1):\n",
    "    heapify(X, i, n)\n",
    "  for i in range(n - 1, 0, -1):\n",
    "    X[0], X[i] = X[i], X[0]\n",
    "    heapify(X, 0, i)\n",
    "  return X\n",
    "\n",
    "print(A)\n",
    "heap_sort(A)"
   ]
  },
  {
   "cell_type": "code",
   "execution_count": null,
   "metadata": {
    "collapsed": true
   },
   "outputs": [],
   "source": []
  }
 ],
 "metadata": {
  "anaconda-cloud": {},
  "kernelspec": {
   "display_name": "Python [conda env:py3]",
   "language": "python",
   "name": "conda-env-py3-py"
  },
  "language_info": {
   "codemirror_mode": {
    "name": "ipython",
    "version": 3
   },
   "file_extension": ".py",
   "mimetype": "text/x-python",
   "name": "python",
   "nbconvert_exporter": "python",
   "pygments_lexer": "ipython3",
   "version": "3.5.3"
  }
 },
 "nbformat": 4,
 "nbformat_minor": 2
}
